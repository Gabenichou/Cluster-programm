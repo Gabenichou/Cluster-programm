{
 "cells": [
  {
   "cell_type": "code",
   "execution_count": 26,
   "id": "36462b62-a8cc-465e-81ee-bd5f846e3545",
   "metadata": {},
   "outputs": [],
   "source": [
    "from numpy import loadtxt\n",
    "import numpy as np"
   ]
  },
  {
   "cell_type": "code",
   "execution_count": 27,
   "id": "3f42d4fb-36af-4999-86a4-e4776814cb43",
   "metadata": {},
   "outputs": [
    {
     "name": "stdout",
     "output_type": "stream",
     "text": [
      "<class 'numpy.ndarray'>\n",
      "(1250, 3)\n",
      "[[0.2519 0.633 ]\n",
      " [0.6602 0.2308]\n",
      " [0.1696 0.2394]\n",
      " ...\n",
      " [0.1867 0.7173]\n",
      " [0.7275 0.1863]\n",
      " [0.7133 0.2975]]\n"
     ]
    }
   ],
   "source": [
    "liste = loadtxt('points.txt',dtype='str')\n",
    "print(type(liste))\n",
    "print(liste.shape)\n",
    "liste[0,2]\n",
    "matrix=np.ones((1250,2))\n",
    "matrix[:,1]=liste[:,1]\n",
    "matrix[:,0]=liste[:,0]\n",
    "print(matrix)"
   ]
  },
  {
   "cell_type": "code",
   "execution_count": 28,
   "id": "bc34a51f-67d2-4fde-be87-90f343151efb",
   "metadata": {},
   "outputs": [],
   "source": [
    "class Point():\n",
    "    def __init__ (self,x,y,cluster):\n",
    "        self.x=x\n",
    "        self.y=y\n",
    "        self.cluster=cluster\n",
    "\n",
    "    def __str__ (self):\n",
    "        return f\"{self.x,self.y,self.cluster}\"\n",
    "\n",
    "    def getcluster(self):\n",
    "        return self.cluster\n",
    "\n",
    "    def assign_to_cluster(self,neucluster):\n",
    "        self.cluster=neucluster"
   ]
  },
  {
   "cell_type": "code",
   "execution_count": 33,
   "id": "caead5fe-4ec8-4236-807c-4e153de15d5c",
   "metadata": {},
   "outputs": [
    {
     "name": "stdout",
     "output_type": "stream",
     "text": [
      "(array([0.2519, 0.6602, 0.1696, ..., 0.1867, 0.7275, 0.7133]), array([0.633 , 0.2308, 0.2394, ..., 0.7173, 0.1863, 0.2975]), '')\n"
     ]
    }
   ],
   "source": [
    "a=Point(matrix[:,0],matrix[:,1],\"\")\n",
    "print(a)"
   ]
  },
  {
   "cell_type": "code",
   "execution_count": 34,
   "id": "b6c6a0ab-327b-4503-a121-003bd65a04c2",
   "metadata": {},
   "outputs": [
    {
     "name": "stdout",
     "output_type": "stream",
     "text": [
      "b\n"
     ]
    }
   ],
   "source": [
    "a=Point(2,3,\"a\")\n",
    "a.assign_to_cluster(\"b\")\n",
    "print (a.cluster)"
   ]
  },
  {
   "cell_type": "code",
   "execution_count": 65,
   "id": "2c161ee0-3e4b-4b09-b38c-8210b8f4c683",
   "metadata": {},
   "outputs": [],
   "source": [
    "class Cluster():\n",
    "    def __init__(self):\n",
    "        self.xsum=0\n",
    "        self.ysum=0\n",
    "        self.nbrpnt=0\n",
    "        if self.nbrpnt==0:\n",
    "            self.mittex=0\n",
    "        else:\n",
    "            self.mittex=self.xsum/self.nbrpnt\n",
    "        if self.nbrpnt==0:\n",
    "            self.mittey=0\n",
    "        else:\n",
    "            self.mittey=self.ysum/self.nbrpnt\n",
    "\n",
    "    def __str__(self):\n",
    "        return f\"{self.xsum,self.ysum,self.nbrpnt,self.mittey,self.mittex}\"\n",
    "\n",
    "    def distance(self,x,y):\n",
    "        distance=((self.mittex-x)**2+(self.mittey-y)**2)**0.5\n",
    "        return distance\n",
    "\n",
    "    def addto(self,cluster):\n",
    "        cluster.assign_to_cluster(cluster)\n",
    "        self.xsum+=x\n",
    "        self.ysum+=y\n",
    "        self.nbrpnt+=1\n",
    "\n",
    "    def removefrom(self,cluster):\n",
    "        self.assign_to_cluster(cluster)\n",
    "        self.xsum-=x\n",
    "        self.ysum-=y\n",
    "        self.nbrpnt-=1"
   ]
  },
  {
   "cell_type": "code",
   "execution_count": 70,
   "id": "01a63bc6-4f01-42b4-a916-6fa99eecbfdc",
   "metadata": {},
   "outputs": [
    {
     "name": "stdout",
     "output_type": "stream",
     "text": [
      "(22.663199999999993, 21.7013, 27, 1, 1) (589.6072000000001, 596.2352999999991, 1188, 0.5, 0.5) (5.5373, 6.135100000000001, 35, 0, 0)\n"
     ]
    }
   ],
   "source": [
    "#die ersten drei cluster kreeiren und definieren in 1,2 und 0.\n",
    "cluster1=Cluster()\n",
    "cluster1.mittey=1\n",
    "cluster1.mittex=1\n",
    "\n",
    "cluster2=Cluster()\n",
    "cluster2.mittey=0.5\n",
    "cluster2.mittex=0.5\n",
    "\n",
    "cluster0=Cluster()\n",
    "\n",
    "for i in range (1250):\n",
    "    point=matrix[i,:]\n",
    "    x=point[0]\n",
    "    y=point[1]\n",
    "    point=Point(x,y,\"\")\n",
    "    #distance von punkt zu den cluster messen\n",
    "    distance1=cluster1.distance(x,y)\n",
    "    distance2=cluster2.distance(x,y)\n",
    "    distance0=cluster0.distance(x,y)\n",
    "    #jetzt den richtigen cluster zuordnen.\n",
    "    if distance1<distance0 and distance1<distance2:\n",
    "        point.assign_to_cluster(cluster1)\n",
    "        cluster1.addto(point)\n",
    "    if distance0<distance1 and distance0<distance2:\n",
    "        point.assign_to_cluster(cluster0)\n",
    "        cluster0.addto(point)\n",
    "    if distance2<distance1 and distance2<distance0:\n",
    "        point.assign_to_cluster(cluster2)\n",
    "        cluster2.addto(point)\n",
    "    #jetzt muss für jedes Cluster nochmal den mittelwert definiert werden.\n",
    "\n",
    "\n",
    "\n",
    "print(cluster1,cluster2,cluster0)"
   ]
  },
  {
   "cell_type": "code",
   "execution_count": 9,
   "id": "982fa7a4-cfed-4a5d-b58f-b6095ac45623",
   "metadata": {},
   "outputs": [],
   "source": [
    "#def xsum (xliste):\n",
    " #   xsum=0\n",
    "  #  for i in range(len(xliste)):\n",
    "   #     xsum=xliste[i]+xsum\n",
    "    #return xsum\n",
    "\n",
    "#def ysum (yliste):\n",
    " #   ysum=0\n",
    "  #  for i in range(len(yliste)):\n",
    "   #     ysum=xliste[i]+ysum\n",
    "    #return ysum\n",
    "\n",
    "#def nbrpnt (liste):\n",
    " #   for i in range (len(liste)):\n",
    "  #      nbrpnt=i\n",
    "   # return nbrpnt\n",
    "\n"
   ]
  },
  {
   "cell_type": "code",
   "execution_count": null,
   "id": "5352b6e2-ba8a-4469-8cee-6094a7aee467",
   "metadata": {},
   "outputs": [],
   "source": [
    "#Liste kreeiren ohne Cluster infos\n",
    "    #inte=[]\n",
    "    #for i in range (1250):\n",
    "        \n",
    "     #   for j in range (2):\n",
    "      #      a=liste[i,j]\n",
    "       #     b=float(a)\n",
    "        #    inte.append(b)\n",
    "        #c=liste[i,2]\n",
    "        #nte.append(c)\n",
    "    #print(type(inte))\n",
    "#liste mit alle Punkten in x und y koordinaten erstellen Matrix (1250,2)\n",
    "\n",
    "\n",
    "    #matrix[:,1]=\n",
    "    #print(matrix)\n",
    "    #inte=np.array([1250,2],2)\n",
    "    #print(type(inte))\n",
    "#ich muss jetzt den shape ändern\n",
    "    #np.full((2,2),inte)"
   ]
  },
  {
   "cell_type": "code",
   "execution_count": null,
   "id": "3cb4e1fd-cddb-4105-9e25-d0b1efd20107",
   "metadata": {},
   "outputs": [],
   "source": []
  },
  {
   "cell_type": "code",
   "execution_count": null,
   "id": "c33f06e7-8760-4934-8c1f-78255676cabe",
   "metadata": {},
   "outputs": [],
   "source": []
  }
 ],
 "metadata": {
  "kernelspec": {
   "display_name": "python-3.11",
   "language": "python",
   "name": "python-3.11"
  },
  "language_info": {
   "codemirror_mode": {
    "name": "ipython",
    "version": 3
   },
   "file_extension": ".py",
   "mimetype": "text/x-python",
   "name": "python",
   "nbconvert_exporter": "python",
   "pygments_lexer": "ipython3",
   "version": "3.11.4"
  }
 },
 "nbformat": 4,
 "nbformat_minor": 5
}
