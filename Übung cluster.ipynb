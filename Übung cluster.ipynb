{
 "cells": [
  {
   "cell_type": "code",
   "execution_count": 32,
   "id": "36462b62-a8cc-465e-81ee-bd5f846e3545",
   "metadata": {},
   "outputs": [],
   "source": [
    "from numpy import loadtxt"
   ]
  },
  {
   "cell_type": "code",
   "execution_count": 33,
   "id": "3f42d4fb-36af-4999-86a4-e4776814cb43",
   "metadata": {},
   "outputs": [
    {
     "name": "stdout",
     "output_type": "stream",
     "text": [
      "<class 'numpy.ndarray'>\n",
      "(1250, 3)\n"
     ]
    },
    {
     "data": {
      "text/plain": [
       "'A'"
      ]
     },
     "execution_count": 33,
     "metadata": {},
     "output_type": "execute_result"
    }
   ],
   "source": [
    "liste = loadtxt('points.txt',dtype='str')\n",
    "print(type(liste))\n",
    "print(liste.shape)\n",
    "liste[0,2]"
   ]
  },
  {
   "cell_type": "code",
   "execution_count": 34,
   "id": "dba32495-c335-406d-bacb-480050ef64cb",
   "metadata": {},
   "outputs": [],
   "source": [
    "inte=[]\n",
    "for i in range (1250):\n",
    "    \n",
    "    for j in range (2):\n",
    "        a=liste[i,j]\n",
    "        b=float(a)\n",
    "        inte.append(b)\n",
    "    c=liste[i,2]\n",
    "    inte.append(c)\n"
   ]
  },
  {
   "cell_type": "code",
   "execution_count": 35,
   "id": "bc34a51f-67d2-4fde-be87-90f343151efb",
   "metadata": {},
   "outputs": [],
   "source": [
    "class Point():\n",
    "    def __init__ (self,x,y,cluster):\n",
    "        self.x=x\n",
    "        self.y=y\n",
    "        self.cluster=cluster\n",
    "\n",
    "    def __str__ (self):\n",
    "        return f\"{self.x,self.y,self.cluster}\"\n",
    "\n",
    "    def getcluster(self):\n",
    "        return self.cluster\n",
    "\n",
    "    def assign_to_cluster(self,neucluster):\n",
    "        self.cluster=neucluster"
   ]
  },
  {
   "cell_type": "code",
   "execution_count": 36,
   "id": "b6c6a0ab-327b-4503-a121-003bd65a04c2",
   "metadata": {},
   "outputs": [
    {
     "name": "stdout",
     "output_type": "stream",
     "text": [
      "b\n"
     ]
    }
   ],
   "source": [
    "a=Point(2,3,\"a\")\n",
    "a.assign_to_cluster(\"b\")\n",
    "print (a.cluster)"
   ]
  },
  {
   "cell_type": "code",
   "execution_count": 37,
   "id": "2c161ee0-3e4b-4b09-b38c-8210b8f4c683",
   "metadata": {},
   "outputs": [],
   "source": [
    "class Cluster():\n",
    "    def __init__(self):\n",
    "        self.xsum=0\n",
    "        self.ysum=0\n",
    "        self.nbrpnt=0\n",
    "        if self.nbrpnt==0:\n",
    "            self.mittex=0\n",
    "        else:\n",
    "            self.mittex=self.xsum/self.nbrpnt\n",
    "        if self.nbrpnt==0:\n",
    "            self.mittey=0\n",
    "        else:\n",
    "            self.mittey=self.ysum/self.nbrpnt\n",
    "\n",
    "    def __str__(self):\n",
    "        return f\"{self.xsum,self.ysum,self.nbrpnt,self.mittey,self.mittex}\"\n",
    "\n",
    "    def distance(self,x,y):\n",
    "        distance=((self.mittex-x)**2+(self.mittey-y)**2)**0.5\n",
    "        return distance\n",
    "\n",
    "    def addto(self,cluster):\n",
    "        self.assign_to_cluster(cluster)\n",
    "        self.xsum+=x\n",
    "        self.ysum+=y\n",
    "        self.nbrpnt+=1\n",
    "\n",
    "    def removefrom(self,cluster):\n",
    "        self.assign_to_cluster(cluster)\n",
    "        self.xsum-=x\n",
    "        self.ysum-=y\n",
    "        self.nbrpnt-=1"
   ]
  },
  {
   "cell_type": "code",
   "execution_count": 38,
   "id": "01a63bc6-4f01-42b4-a916-6fa99eecbfdc",
   "metadata": {},
   "outputs": [
    {
     "data": {
      "text/plain": [
       "2.8284271247461903"
      ]
     },
     "execution_count": 38,
     "metadata": {},
     "output_type": "execute_result"
    }
   ],
   "source": [
    "a=Cluster()\n",
    "a.distance(2,2)\n"
   ]
  },
  {
   "cell_type": "code",
   "execution_count": 8,
   "id": "982fa7a4-cfed-4a5d-b58f-b6095ac45623",
   "metadata": {},
   "outputs": [],
   "source": [
    "#def xsum (xliste):\n",
    " #   xsum=0\n",
    "  #  for i in range(len(xliste)):\n",
    "   #     xsum=xliste[i]+xsum\n",
    "    #return xsum\n",
    "\n",
    "#def ysum (yliste):\n",
    " #   ysum=0\n",
    "  #  for i in range(len(yliste)):\n",
    "   #     ysum=xliste[i]+ysum\n",
    "    #return ysum\n",
    "\n",
    "#def nbrpnt (liste):\n",
    " #   for i in range (len(liste)):\n",
    "  #      nbrpnt=i\n",
    "   # return nbrpnt\n",
    "\n"
   ]
  },
  {
   "cell_type": "code",
   "execution_count": null,
   "id": "3cb4e1fd-cddb-4105-9e25-d0b1efd20107",
   "metadata": {},
   "outputs": [],
   "source": []
  }
 ],
 "metadata": {
  "kernelspec": {
   "display_name": "python-3.11",
   "language": "python",
   "name": "python-3.11"
  },
  "language_info": {
   "codemirror_mode": {
    "name": "ipython",
    "version": 3
   },
   "file_extension": ".py",
   "mimetype": "text/x-python",
   "name": "python",
   "nbconvert_exporter": "python",
   "pygments_lexer": "ipython3",
   "version": "3.11.4"
  }
 },
 "nbformat": 4,
 "nbformat_minor": 5
}
